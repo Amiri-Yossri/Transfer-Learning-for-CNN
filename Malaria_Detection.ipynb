{
  "nbformat": 4,
  "nbformat_minor": 0,
  "metadata": {
    "colab": {
      "provenance": []
    },
    "kernelspec": {
      "name": "python3",
      "display_name": "Python 3"
    },
    "language_info": {
      "name": "python"
    },
    "accelerator": "GPU",
    "gpuClass": "standard"
  },
  "cells": [
    {
      "cell_type": "code",
      "execution_count": null,
      "metadata": {
        "id": "6J8m0qqjx-GV"
      },
      "outputs": [],
      "source": []
    },
    {
      "cell_type": "code",
      "source": [
        "from google.colab import drive\n",
        "drive.mount('/content/drive')"
      ],
      "metadata": {
        "colab": {
          "base_uri": "https://localhost:8080/"
        },
        "id": "wh3xxb-iyBtP",
        "outputId": "6e7ad2a3-13db-48ee-c9e9-65ba01fe3b8c"
      },
      "execution_count": null,
      "outputs": [
        {
          "output_type": "stream",
          "name": "stdout",
          "text": [
            "Drive already mounted at /content/drive; to attempt to forcibly remount, call drive.mount(\"/content/drive\", force_remount=True).\n"
          ]
        }
      ]
    },
    {
      "cell_type": "code",
      "source": [
        "from tensorflow.keras.layers import Input, Lambda, Dense, Flatten,Conv2D\n",
        "from tensorflow.keras.models import Model\n",
        "from tensorflow.keras.applications.vgg19 import VGG19\n",
        "from tensorflow.keras.applications.resnet50 import preprocess_input\n",
        "from tensorflow.keras.preprocessing import image\n",
        "from tensorflow.keras.preprocessing.image import ImageDataGenerator,load_img\n",
        "from tensorflow.keras.models import Sequential\n",
        "import numpy as np\n",
        "from glob import glob\n",
        "import matplotlib.pyplot as plt"
      ],
      "metadata": {
        "id": "ZkLDmGncztYR"
      },
      "execution_count": null,
      "outputs": []
    },
    {
      "cell_type": "code",
      "source": [
        "# re-size all the images to this\n",
        "IMAGE_SIZE = [224, 224]\n",
        "\n",
        "train_path = '/content/drive/MyDrive/Dataset/Train'\n",
        "valid_path = '/content/drive/MyDrive/Dataset/Test'"
      ],
      "metadata": {
        "id": "rxhpKfO-0Dns"
      },
      "execution_count": null,
      "outputs": []
    },
    {
      "cell_type": "code",
      "source": [
        "# Import the Vgg 16 library as shown below and add preprocessing layer to the front of VGG\n",
        "# Here we will be using imagenet weights\n",
        "\n",
        "mobilnet = VGG19(input_shape=IMAGE_SIZE + [3], weights='imagenet', include_top=False)"
      ],
      "metadata": {
        "id": "T1qIz7Qd0If4",
        "colab": {
          "base_uri": "https://localhost:8080/"
        },
        "outputId": "7d590a1f-d0f0-4c3d-d903-baf4c2d8bc93"
      },
      "execution_count": null,
      "outputs": [
        {
          "output_type": "stream",
          "name": "stdout",
          "text": [
            "Downloading data from https://storage.googleapis.com/tensorflow/keras-applications/vgg19/vgg19_weights_tf_dim_ordering_tf_kernels_notop.h5\n",
            "80134624/80134624 [==============================] - 0s 0us/step\n"
          ]
        }
      ]
    },
    {
      "cell_type": "code",
      "source": [
        "# don't train existing weights\n",
        "for layer in mobilnet.layers:\n",
        "    layer.trainable = False"
      ],
      "metadata": {
        "id": "o89gYJ740OdQ"
      },
      "execution_count": null,
      "outputs": []
    },
    {
      "cell_type": "code",
      "source": [
        "  # useful for getting number of output classes\n",
        "folders = glob('/content/drive/MyDrive/Dataset/Train/*')\n"
      ],
      "metadata": {
        "id": "HBofo1HN0Thh"
      },
      "execution_count": null,
      "outputs": []
    },
    {
      "cell_type": "code",
      "source": [
        "folders"
      ],
      "metadata": {
        "colab": {
          "base_uri": "https://localhost:8080/"
        },
        "id": "9glxpJaD0lx_",
        "outputId": "ba71fa6d-3c65-45d6-fc0d-ac72855a625d"
      },
      "execution_count": null,
      "outputs": [
        {
          "output_type": "execute_result",
          "data": {
            "text/plain": [
              "['/content/drive/MyDrive/Dataset/Train/Uninfected',\n",
              " '/content/drive/MyDrive/Dataset/Train/Parasite']"
            ]
          },
          "metadata": {},
          "execution_count": 7
        }
      ]
    },
    {
      "cell_type": "code",
      "source": [
        "# our layers - you can add more if you want\n",
        "x = Flatten()(mobilnet.output)"
      ],
      "metadata": {
        "id": "XQ0TlN7D3Go9"
      },
      "execution_count": null,
      "outputs": []
    },
    {
      "cell_type": "code",
      "source": [
        "prediction = Dense(len(folders), activation='softmax')(x)\n",
        "\n",
        "# create a model object\n",
        "model = Model(inputs=mobilnet.input, outputs=prediction)"
      ],
      "metadata": {
        "id": "ZvnJGi2o3GsY"
      },
      "execution_count": null,
      "outputs": []
    },
    {
      "cell_type": "code",
      "source": [
        "# view the structure of the model\n",
        "model.summary()"
      ],
      "metadata": {
        "id": "BwRRzBC10l1o",
        "colab": {
          "base_uri": "https://localhost:8080/"
        },
        "outputId": "ab714f8d-f981-43fd-ee91-5f6cd246811a"
      },
      "execution_count": null,
      "outputs": [
        {
          "output_type": "stream",
          "name": "stdout",
          "text": [
            "Model: \"model\"\n",
            "_________________________________________________________________\n",
            " Layer (type)                Output Shape              Param #   \n",
            "=================================================================\n",
            " input_1 (InputLayer)        [(None, 224, 224, 3)]     0         \n",
            "                                                                 \n",
            " block1_conv1 (Conv2D)       (None, 224, 224, 64)      1792      \n",
            "                                                                 \n",
            " block1_conv2 (Conv2D)       (None, 224, 224, 64)      36928     \n",
            "                                                                 \n",
            " block1_pool (MaxPooling2D)  (None, 112, 112, 64)      0         \n",
            "                                                                 \n",
            " block2_conv1 (Conv2D)       (None, 112, 112, 128)     73856     \n",
            "                                                                 \n",
            " block2_conv2 (Conv2D)       (None, 112, 112, 128)     147584    \n",
            "                                                                 \n",
            " block2_pool (MaxPooling2D)  (None, 56, 56, 128)       0         \n",
            "                                                                 \n",
            " block3_conv1 (Conv2D)       (None, 56, 56, 256)       295168    \n",
            "                                                                 \n",
            " block3_conv2 (Conv2D)       (None, 56, 56, 256)       590080    \n",
            "                                                                 \n",
            " block3_conv3 (Conv2D)       (None, 56, 56, 256)       590080    \n",
            "                                                                 \n",
            " block3_conv4 (Conv2D)       (None, 56, 56, 256)       590080    \n",
            "                                                                 \n",
            " block3_pool (MaxPooling2D)  (None, 28, 28, 256)       0         \n",
            "                                                                 \n",
            " block4_conv1 (Conv2D)       (None, 28, 28, 512)       1180160   \n",
            "                                                                 \n",
            " block4_conv2 (Conv2D)       (None, 28, 28, 512)       2359808   \n",
            "                                                                 \n",
            " block4_conv3 (Conv2D)       (None, 28, 28, 512)       2359808   \n",
            "                                                                 \n",
            " block4_conv4 (Conv2D)       (None, 28, 28, 512)       2359808   \n",
            "                                                                 \n",
            " block4_pool (MaxPooling2D)  (None, 14, 14, 512)       0         \n",
            "                                                                 \n",
            " block5_conv1 (Conv2D)       (None, 14, 14, 512)       2359808   \n",
            "                                                                 \n",
            " block5_conv2 (Conv2D)       (None, 14, 14, 512)       2359808   \n",
            "                                                                 \n",
            " block5_conv3 (Conv2D)       (None, 14, 14, 512)       2359808   \n",
            "                                                                 \n",
            " block5_conv4 (Conv2D)       (None, 14, 14, 512)       2359808   \n",
            "                                                                 \n",
            " block5_pool (MaxPooling2D)  (None, 7, 7, 512)         0         \n",
            "                                                                 \n",
            " flatten (Flatten)           (None, 25088)             0         \n",
            "                                                                 \n",
            " dense (Dense)               (None, 2)                 50178     \n",
            "                                                                 \n",
            "=================================================================\n",
            "Total params: 20,074,562\n",
            "Trainable params: 50,178\n",
            "Non-trainable params: 20,024,384\n",
            "_________________________________________________________________\n"
          ]
        }
      ]
    },
    {
      "cell_type": "code",
      "source": [
        "from tensorflow.keras.layers import MaxPooling2D"
      ],
      "metadata": {
        "id": "neGLK0DUzxVF"
      },
      "execution_count": null,
      "outputs": []
    },
    {
      "cell_type": "code",
      "source": [
        "### Create Model from scratch using CNN\n",
        "model=Sequential()\n",
        "model.add(Conv2D(filters=16,kernel_size=2,padding=\"same\",activation=\"relu\",input_shape=(224,224,3)))\n",
        "model.add(MaxPooling2D(pool_size=2))\n",
        "model.add(Conv2D(filters=32,kernel_size=2,padding=\"same\",activation =\"relu\"))\n",
        "model.add(MaxPooling2D(pool_size=2))\n",
        "model.add(Conv2D(filters=64,kernel_size=2,padding=\"same\",activation=\"relu\"))\n",
        "model.add(MaxPooling2D(pool_size=2))\n",
        "model.add(Flatten())\n",
        "model.add(Dense(500,activation=\"relu\"))\n",
        "model.add(Dense(2,activation=\"softmax\"))\n",
        "model.summary()"
      ],
      "metadata": {
        "colab": {
          "base_uri": "https://localhost:8080/"
        },
        "id": "EkoKuUUM3TOi",
        "outputId": "c71d447c-2068-47f1-d107-4fd4f63ac865"
      },
      "execution_count": null,
      "outputs": [
        {
          "output_type": "stream",
          "name": "stdout",
          "text": [
            "Model: \"sequential\"\n",
            "_________________________________________________________________\n",
            " Layer (type)                Output Shape              Param #   \n",
            "=================================================================\n",
            " conv2d (Conv2D)             (None, 224, 224, 16)      208       \n",
            "                                                                 \n",
            " max_pooling2d (MaxPooling2D  (None, 112, 112, 16)     0         \n",
            " )                                                               \n",
            "                                                                 \n",
            " conv2d_1 (Conv2D)           (None, 112, 112, 32)      2080      \n",
            "                                                                 \n",
            " max_pooling2d_1 (MaxPooling  (None, 56, 56, 32)       0         \n",
            " 2D)                                                             \n",
            "                                                                 \n",
            " conv2d_2 (Conv2D)           (None, 56, 56, 64)        8256      \n",
            "                                                                 \n",
            " max_pooling2d_2 (MaxPooling  (None, 28, 28, 64)       0         \n",
            " 2D)                                                             \n",
            "                                                                 \n",
            " flatten_1 (Flatten)         (None, 50176)             0         \n",
            "                                                                 \n",
            " dense_1 (Dense)             (None, 500)               25088500  \n",
            "                                                                 \n",
            " dense_2 (Dense)             (None, 2)                 1002      \n",
            "                                                                 \n",
            "=================================================================\n",
            "Total params: 25,100,046\n",
            "Trainable params: 25,100,046\n",
            "Non-trainable params: 0\n",
            "_________________________________________________________________\n"
          ]
        }
      ]
    },
    {
      "cell_type": "code",
      "source": [
        "model.compile(\n",
        "  loss='categorical_crossentropy',\n",
        "  optimizer='adam',\n",
        "  metrics=['accuracy']\n",
        ")"
      ],
      "metadata": {
        "id": "Z5YZ26zU3TQw"
      },
      "execution_count": null,
      "outputs": []
    },
    {
      "cell_type": "code",
      "source": [
        "from tensorflow.keras.preprocessing.image import ImageDataGenerator\n",
        "\n",
        "train_datagen = ImageDataGenerator(rescale = 1./255,\n",
        "                                   shear_range = 0.2,\n",
        "                                   zoom_range = 0.2,\n",
        "                                   horizontal_flip = True)\n",
        "\n",
        "test_datagen = ImageDataGenerator(rescale = 1./255)"
      ],
      "metadata": {
        "id": "BMj3O4YH3TUS"
      },
      "execution_count": null,
      "outputs": []
    },
    {
      "cell_type": "code",
      "source": [
        "# Make sure you provide the same target size as initialied for the image size\n",
        "training_set = train_datagen.flow_from_directory('/content/drive/MyDrive/Dataset/Train/',\n",
        "                                                 target_size = (224, 224),\n",
        "                                                 batch_size = 32,\n",
        "                                                 class_mode = 'categorical')"
      ],
      "metadata": {
        "colab": {
          "base_uri": "https://localhost:8080/"
        },
        "id": "0_HQ0P4t3gqZ",
        "outputId": "53663b93-1d7c-4765-a9da-c1d8cc3e7ee8"
      },
      "execution_count": null,
      "outputs": [
        {
          "output_type": "stream",
          "name": "stdout",
          "text": [
            "Found 416 images belonging to 2 classes.\n"
          ]
        }
      ]
    },
    {
      "cell_type": "code",
      "source": [
        "training_set"
      ],
      "metadata": {
        "colab": {
          "base_uri": "https://localhost:8080/"
        },
        "id": "cItrmSnH3gt5",
        "outputId": "c72ab7b6-04c5-42ee-c3e2-5d948ae8e62d"
      },
      "execution_count": null,
      "outputs": [
        {
          "output_type": "execute_result",
          "data": {
            "text/plain": [
              "<keras.preprocessing.image.DirectoryIterator at 0x7f594d5d75d0>"
            ]
          },
          "metadata": {},
          "execution_count": 16
        }
      ]
    },
    {
      "cell_type": "code",
      "source": [
        "test_set = test_datagen.flow_from_directory('/content/drive/MyDrive/Dataset/Test',\n",
        "                                            target_size = (224, 224),\n",
        "                                            batch_size = 32,\n",
        "                                            class_mode = 'categorical')"
      ],
      "metadata": {
        "colab": {
          "base_uri": "https://localhost:8080/"
        },
        "id": "OW-0LMOn4FZX",
        "outputId": "d8bc8e8c-2b65-434a-f04d-fad3b969124a"
      },
      "execution_count": null,
      "outputs": [
        {
          "output_type": "stream",
          "name": "stdout",
          "text": [
            "Found 134 images belonging to 2 classes.\n"
          ]
        }
      ]
    },
    {
      "cell_type": "code",
      "source": [
        "r = model.fit_generator(\n",
        "  training_set,\n",
        "  validation_data=test_set,\n",
        "  epochs=50,\n",
        "  steps_per_epoch=len(training_set),\n",
        "  validation_steps=len(test_set)\n",
        ")"
      ],
      "metadata": {
        "colab": {
          "base_uri": "https://localhost:8080/"
        },
        "id": "_LVCmJkM4fq4",
        "outputId": "551f8482-68b0-401c-cf0f-7fa54ffe0719"
      },
      "execution_count": null,
      "outputs": [
        {
          "output_type": "stream",
          "name": "stderr",
          "text": [
            "/usr/local/lib/python3.7/dist-packages/ipykernel_launcher.py:8: UserWarning: `Model.fit_generator` is deprecated and will be removed in a future version. Please use `Model.fit`, which supports generators.\n",
            "  \n"
          ]
        },
        {
          "output_type": "stream",
          "name": "stdout",
          "text": [
            "Epoch 1/50\n",
            "13/13 [==============================] - 84s 6s/step - loss: 1.1322 - accuracy: 0.5865 - val_loss: 0.6476 - val_accuracy: 0.6418\n",
            "Epoch 2/50\n",
            "13/13 [==============================] - 6s 428ms/step - loss: 0.6107 - accuracy: 0.6755 - val_loss: 0.7560 - val_accuracy: 0.4478\n",
            "Epoch 3/50\n",
            "13/13 [==============================] - 6s 428ms/step - loss: 0.5178 - accuracy: 0.7428 - val_loss: 0.9656 - val_accuracy: 0.3507\n",
            "Epoch 4/50\n",
            "13/13 [==============================] - 6s 427ms/step - loss: 0.5075 - accuracy: 0.7260 - val_loss: 1.1838 - val_accuracy: 0.3507\n",
            "Epoch 5/50\n",
            "13/13 [==============================] - 6s 427ms/step - loss: 0.4375 - accuracy: 0.8077 - val_loss: 1.0365 - val_accuracy: 0.3209\n",
            "Epoch 6/50\n",
            "13/13 [==============================] - 6s 429ms/step - loss: 0.4234 - accuracy: 0.8101 - val_loss: 1.0279 - val_accuracy: 0.4104\n",
            "Epoch 7/50\n",
            "13/13 [==============================] - 6s 431ms/step - loss: 0.4103 - accuracy: 0.8125 - val_loss: 0.8455 - val_accuracy: 0.5149\n",
            "Epoch 8/50\n",
            "13/13 [==============================] - 6s 425ms/step - loss: 0.3899 - accuracy: 0.8389 - val_loss: 0.6868 - val_accuracy: 0.5896\n",
            "Epoch 9/50\n",
            "13/13 [==============================] - 6s 425ms/step - loss: 0.3273 - accuracy: 0.8510 - val_loss: 1.0621 - val_accuracy: 0.3955\n",
            "Epoch 10/50\n",
            "13/13 [==============================] - 6s 430ms/step - loss: 0.3077 - accuracy: 0.8702 - val_loss: 0.7424 - val_accuracy: 0.5821\n",
            "Epoch 11/50\n",
            "13/13 [==============================] - 6s 487ms/step - loss: 0.2805 - accuracy: 0.8918 - val_loss: 0.5738 - val_accuracy: 0.7015\n",
            "Epoch 12/50\n",
            "13/13 [==============================] - 6s 437ms/step - loss: 0.2347 - accuracy: 0.9183 - val_loss: 0.6865 - val_accuracy: 0.6567\n",
            "Epoch 13/50\n",
            "13/13 [==============================] - 6s 423ms/step - loss: 0.2282 - accuracy: 0.9207 - val_loss: 0.8132 - val_accuracy: 0.5970\n",
            "Epoch 14/50\n",
            "13/13 [==============================] - 6s 424ms/step - loss: 0.2137 - accuracy: 0.9111 - val_loss: 0.3957 - val_accuracy: 0.8060\n",
            "Epoch 15/50\n",
            "13/13 [==============================] - 6s 427ms/step - loss: 0.2431 - accuracy: 0.9135 - val_loss: 0.5139 - val_accuracy: 0.7239\n",
            "Epoch 16/50\n",
            "13/13 [==============================] - 6s 428ms/step - loss: 0.1883 - accuracy: 0.9423 - val_loss: 0.5311 - val_accuracy: 0.7164\n",
            "Epoch 17/50\n",
            "13/13 [==============================] - 6s 426ms/step - loss: 0.2470 - accuracy: 0.9014 - val_loss: 0.6015 - val_accuracy: 0.6866\n",
            "Epoch 18/50\n",
            "13/13 [==============================] - 6s 428ms/step - loss: 0.1915 - accuracy: 0.9327 - val_loss: 0.2829 - val_accuracy: 0.8731\n",
            "Epoch 19/50\n",
            "13/13 [==============================] - 6s 426ms/step - loss: 0.1475 - accuracy: 0.9663 - val_loss: 0.3631 - val_accuracy: 0.8209\n",
            "Epoch 20/50\n",
            "13/13 [==============================] - 6s 428ms/step - loss: 0.1380 - accuracy: 0.9375 - val_loss: 0.3231 - val_accuracy: 0.8507\n",
            "Epoch 21/50\n",
            "13/13 [==============================] - 6s 429ms/step - loss: 0.1294 - accuracy: 0.9591 - val_loss: 0.3660 - val_accuracy: 0.8358\n",
            "Epoch 22/50\n",
            "13/13 [==============================] - 7s 512ms/step - loss: 0.1150 - accuracy: 0.9712 - val_loss: 0.3726 - val_accuracy: 0.8507\n",
            "Epoch 23/50\n",
            "13/13 [==============================] - 6s 429ms/step - loss: 0.1015 - accuracy: 0.9736 - val_loss: 0.3682 - val_accuracy: 0.8433\n",
            "Epoch 24/50\n",
            "13/13 [==============================] - 6s 425ms/step - loss: 0.1180 - accuracy: 0.9591 - val_loss: 0.4488 - val_accuracy: 0.7985\n",
            "Epoch 25/50\n",
            "13/13 [==============================] - 6s 425ms/step - loss: 0.0985 - accuracy: 0.9639 - val_loss: 0.5014 - val_accuracy: 0.8209\n",
            "Epoch 26/50\n",
            "13/13 [==============================] - 6s 429ms/step - loss: 0.1299 - accuracy: 0.9615 - val_loss: 0.3700 - val_accuracy: 0.8358\n",
            "Epoch 27/50\n",
            "13/13 [==============================] - 7s 523ms/step - loss: 0.1280 - accuracy: 0.9471 - val_loss: 0.4203 - val_accuracy: 0.8060\n",
            "Epoch 28/50\n",
            "13/13 [==============================] - 6s 426ms/step - loss: 0.1369 - accuracy: 0.9471 - val_loss: 0.4046 - val_accuracy: 0.8284\n",
            "Epoch 29/50\n",
            "13/13 [==============================] - 6s 443ms/step - loss: 0.0980 - accuracy: 0.9712 - val_loss: 0.3058 - val_accuracy: 0.8507\n",
            "Epoch 30/50\n",
            "13/13 [==============================] - 6s 436ms/step - loss: 0.0726 - accuracy: 0.9688 - val_loss: 0.4238 - val_accuracy: 0.8358\n",
            "Epoch 31/50\n",
            "13/13 [==============================] - 6s 432ms/step - loss: 0.0708 - accuracy: 0.9760 - val_loss: 0.2258 - val_accuracy: 0.8881\n",
            "Epoch 32/50\n",
            "13/13 [==============================] - 6s 446ms/step - loss: 0.0624 - accuracy: 0.9760 - val_loss: 0.3239 - val_accuracy: 0.8582\n",
            "Epoch 33/50\n",
            "13/13 [==============================] - 5s 423ms/step - loss: 0.1595 - accuracy: 0.9471 - val_loss: 0.5660 - val_accuracy: 0.8284\n",
            "Epoch 34/50\n",
            "13/13 [==============================] - 7s 508ms/step - loss: 0.1797 - accuracy: 0.9543 - val_loss: 0.2659 - val_accuracy: 0.8806\n",
            "Epoch 35/50\n",
            "13/13 [==============================] - 6s 426ms/step - loss: 0.0836 - accuracy: 0.9712 - val_loss: 0.1894 - val_accuracy: 0.9254\n",
            "Epoch 36/50\n",
            "13/13 [==============================] - 6s 425ms/step - loss: 0.1008 - accuracy: 0.9663 - val_loss: 0.2609 - val_accuracy: 0.8955\n",
            "Epoch 37/50\n",
            "13/13 [==============================] - 6s 423ms/step - loss: 0.0711 - accuracy: 0.9760 - val_loss: 0.1909 - val_accuracy: 0.9254\n",
            "Epoch 38/50\n",
            "13/13 [==============================] - 6s 428ms/step - loss: 0.0463 - accuracy: 0.9904 - val_loss: 0.2556 - val_accuracy: 0.8806\n",
            "Epoch 39/50\n",
            "13/13 [==============================] - 6s 429ms/step - loss: 0.0653 - accuracy: 0.9784 - val_loss: 0.6615 - val_accuracy: 0.7836\n",
            "Epoch 40/50\n",
            "13/13 [==============================] - 6s 428ms/step - loss: 0.1568 - accuracy: 0.9351 - val_loss: 0.3077 - val_accuracy: 0.8657\n",
            "Epoch 41/50\n",
            "13/13 [==============================] - 6s 427ms/step - loss: 0.1287 - accuracy: 0.9495 - val_loss: 0.3435 - val_accuracy: 0.8582\n",
            "Epoch 42/50\n",
            "13/13 [==============================] - 7s 517ms/step - loss: 0.0971 - accuracy: 0.9639 - val_loss: 0.1799 - val_accuracy: 0.9403\n",
            "Epoch 43/50\n",
            "13/13 [==============================] - 6s 425ms/step - loss: 0.2124 - accuracy: 0.9327 - val_loss: 0.6093 - val_accuracy: 0.6866\n",
            "Epoch 44/50\n",
            "13/13 [==============================] - 6s 426ms/step - loss: 0.3238 - accuracy: 0.8389 - val_loss: 0.6102 - val_accuracy: 0.6269\n",
            "Epoch 45/50\n",
            "13/13 [==============================] - 6s 426ms/step - loss: 0.2153 - accuracy: 0.9038 - val_loss: 0.4370 - val_accuracy: 0.8209\n",
            "Epoch 46/50\n",
            "13/13 [==============================] - 6s 426ms/step - loss: 0.1769 - accuracy: 0.9327 - val_loss: 0.4469 - val_accuracy: 0.7910\n",
            "Epoch 47/50\n",
            "13/13 [==============================] - 6s 427ms/step - loss: 0.1642 - accuracy: 0.9423 - val_loss: 0.3545 - val_accuracy: 0.8657\n",
            "Epoch 48/50\n",
            "13/13 [==============================] - 5s 423ms/step - loss: 0.1185 - accuracy: 0.9543 - val_loss: 0.3052 - val_accuracy: 0.8955\n",
            "Epoch 49/50\n",
            "13/13 [==============================] - 6s 426ms/step - loss: 0.0709 - accuracy: 0.9760 - val_loss: 0.2430 - val_accuracy: 0.9104\n",
            "Epoch 50/50\n",
            "13/13 [==============================] - 6s 424ms/step - loss: 0.0769 - accuracy: 0.9784 - val_loss: 0.2375 - val_accuracy: 0.9104\n"
          ]
        }
      ]
    },
    {
      "cell_type": "code",
      "source": [
        "# plot the loss\n",
        "plt.plot(r.history['loss'], label='train loss')\n",
        "plt.plot(r.history['val_loss'], label='val loss')\n",
        "plt.legend()\n",
        "plt.show()\n",
        "plt.savefig('LossVal_loss')\n",
        "\n",
        "# plot the accuracy\n",
        "plt.plot(r.history['accuracy'], label='train acc')\n",
        "plt.plot(r.history['val_accuracy'], label='val acc')\n",
        "plt.legend()\n",
        "plt.show()\n",
        "plt.savefig('AccVal_acc')"
      ],
      "metadata": {
        "colab": {
          "base_uri": "https://localhost:8080/",
          "height": 530
        },
        "id": "3OucapaL4fuP",
        "outputId": "7f34299b-7254-41e0-fffe-32bc2edc7fad"
      },
      "execution_count": null,
      "outputs": [
        {
          "output_type": "display_data",
          "data": {
            "text/plain": [
              "<Figure size 432x288 with 1 Axes>"
            ],
            "image/png": "[encoded data removed]"
          },
          "metadata": {
            "needs_background": "light"
          }
        },
        {
          "output_type": "display_data",
          "data": {
            "text/plain": [
              "<Figure size 432x288 with 1 Axes>"
            ],
            "image/png": "[encoded data removed]"
          },
          "metadata": {
            "needs_background": "light"
          }
        },
        {
          "output_type": "display_data",
          "data": {
            "text/plain": [
              "<Figure size 432x288 with 0 Axes>"
            ]
          },
          "metadata": {}
        }
      ]
    },
    {
      "cell_type": "code",
      "source": [
        "from tensorflow.keras.models import load_model\n",
        "\n",
        "model.save('model_vgg19.h5')"
      ],
      "metadata": {
        "id": "Wk6CPysOAA5O"
      },
      "execution_count": null,
      "outputs": []
    },
    {
      "cell_type": "code",
      "source": [
        "y_pred = model.predict(test_set)"
      ],
      "metadata": {
        "colab": {
          "base_uri": "https://localhost:8080/"
        },
        "id": "4uE0zNRx1oft",
        "outputId": "905b4ace-bf0b-4d97-e745-a3215999d1e8"
      },
      "execution_count": null,
      "outputs": [
        {
          "output_type": "stream",
          "name": "stdout",
          "text": [
            "5/5 [==============================] - 0s 73ms/step\n"
          ]
        }
      ]
    },
    {
      "cell_type": "code",
      "source": [
        "y_pred"
      ],
      "metadata": {
        "colab": {
          "base_uri": "https://localhost:8080/"
        },
        "id": "oLqiBsdL1ojV",
        "outputId": "cfd7e96c-8cff-4e7a-e0a4-029d8636217b"
      },
      "execution_count": null,
      "outputs": [
        {
          "output_type": "execute_result",
          "data": {
            "text/plain": [
              "array([[8.5761207e-01, 1.4238799e-01],\n",
              "       [1.0000000e+00, 3.7066352e-13],\n",
              "       [4.9486828e-01, 5.0513172e-01],\n",
              "       [1.6964358e-01, 8.3035648e-01],\n",
              "       [7.8263301e-01, 2.1736698e-01],\n",
              "       [9.2835896e-02, 9.0716410e-01],\n",
              "       [9.7471809e-01, 2.5281947e-02],\n",
              "       [9.9999726e-01, 2.7175302e-06],\n",
              "       [1.0000000e+00, 1.3461525e-08],\n",
              "       [9.9771750e-01, 2.2825424e-03],\n",
              "       [9.9998772e-01, 1.2286264e-05],\n",
              "       [1.2064733e-01, 8.7935269e-01],\n",
              "       [9.9998045e-01, 1.9549996e-05],\n",
              "       [4.2047057e-01, 5.7952940e-01],\n",
              "       [9.9962473e-01, 3.7519171e-04],\n",
              "       [9.9999976e-01, 1.8840592e-07],\n",
              "       [9.9999762e-01, 2.4017925e-06],\n",
              "       [9.9963677e-01, 3.6325853e-04],\n",
              "       [9.9782169e-01, 2.1783591e-03],\n",
              "       [9.9999607e-01, 3.9234924e-06],\n",
              "       [7.7029593e-02, 9.2297047e-01],\n",
              "       [5.9002735e-02, 9.4099730e-01],\n",
              "       [1.0000000e+00, 2.2238742e-09],\n",
              "       [1.3499577e-01, 8.6500424e-01],\n",
              "       [2.1539855e-01, 7.8460145e-01],\n",
              "       [9.9979728e-01, 2.0267577e-04],\n",
              "       [1.6660439e-02, 9.8333955e-01],\n",
              "       [9.9976033e-01, 2.3967658e-04],\n",
              "       [9.9999988e-01, 6.6917842e-08],\n",
              "       [1.2519258e-01, 8.7480742e-01],\n",
              "       [9.9551916e-01, 4.4808700e-03],\n",
              "       [9.9262881e-01, 7.3711122e-03],\n",
              "       [9.8670793e-01, 1.3292049e-02],\n",
              "       [6.2956446e-01, 3.7043551e-01],\n",
              "       [1.0000000e+00, 3.1605953e-08],\n",
              "       [9.9999440e-01, 5.6173476e-06],\n",
              "       [9.1695482e-01, 8.3045222e-02],\n",
              "       [1.0000000e+00, 1.0976208e-12],\n",
              "       [2.2524089e-01, 7.7475911e-01],\n",
              "       [9.5890887e-02, 9.0410906e-01],\n",
              "       [9.9674255e-01, 3.2574916e-03],\n",
              "       [9.9616230e-01, 3.8376846e-03],\n",
              "       [8.2011804e-02, 9.1798818e-01],\n",
              "       [9.8754591e-01, 1.2454128e-02],\n",
              "       [9.9972242e-01, 2.7751533e-04],\n",
              "       [9.9999583e-01, 4.1869239e-06],\n",
              "       [2.9644889e-01, 7.0355111e-01],\n",
              "       [4.6902829e-01, 5.3097171e-01],\n",
              "       [7.8635933e-03, 9.9213648e-01],\n",
              "       [9.9905974e-01, 9.4024441e-04],\n",
              "       [9.9739456e-01, 2.6054296e-03],\n",
              "       [9.8870218e-01, 1.1297785e-02],\n",
              "       [3.0416387e-01, 6.9583613e-01],\n",
              "       [1.0000000e+00, 4.7094146e-09],\n",
              "       [9.9997008e-01, 2.9886703e-05],\n",
              "       [1.2897266e-01, 8.7102729e-01],\n",
              "       [9.9921000e-01, 7.8992132e-04],\n",
              "       [5.8944386e-01, 4.1055617e-01],\n",
              "       [1.0636731e-01, 8.9363271e-01],\n",
              "       [9.9772364e-01, 2.2763449e-03],\n",
              "       [2.1338344e-01, 7.8661656e-01],\n",
              "       [9.9832314e-01, 1.6767938e-03],\n",
              "       [9.9999988e-01, 6.9735670e-08],\n",
              "       [1.6787498e-01, 8.3212501e-01],\n",
              "       [9.9456221e-01, 5.4378570e-03],\n",
              "       [1.2162491e-01, 8.7837511e-01],\n",
              "       [9.9977738e-01, 2.2264615e-04],\n",
              "       [5.1074412e-02, 9.4892555e-01],\n",
              "       [5.2292377e-02, 9.4770759e-01],\n",
              "       [9.9994683e-01, 5.3139192e-05],\n",
              "       [1.7370395e-01, 8.2629603e-01],\n",
              "       [9.9856550e-01, 1.4345797e-03],\n",
              "       [5.7387490e-02, 9.4261247e-01],\n",
              "       [9.9915743e-01, 8.4257248e-04],\n",
              "       [6.4026162e-02, 9.3597388e-01],\n",
              "       [6.6254580e-01, 3.3745423e-01],\n",
              "       [7.7244746e-03, 9.9227554e-01],\n",
              "       [2.0461304e-01, 7.9538691e-01],\n",
              "       [1.4141633e-01, 8.5858369e-01],\n",
              "       [8.0651738e-02, 9.1934830e-01],\n",
              "       [3.2137752e-01, 6.7862248e-01],\n",
              "       [9.9776745e-01, 2.2326093e-03],\n",
              "       [5.0088853e-01, 4.9911144e-01],\n",
              "       [3.3761602e-02, 9.6623838e-01],\n",
              "       [1.0000000e+00, 1.0742519e-08],\n",
              "       [9.9745411e-01, 2.5459044e-03],\n",
              "       [9.9666852e-01, 3.3315513e-03],\n",
              "       [1.9009818e-01, 8.0990177e-01],\n",
              "       [2.8721777e-01, 7.1278220e-01],\n",
              "       [2.3140848e-01, 7.6859152e-01],\n",
              "       [9.9977010e-01, 2.2991629e-04],\n",
              "       [9.9957973e-01, 4.2024435e-04],\n",
              "       [1.6108453e-01, 8.3891553e-01],\n",
              "       [1.6463791e-01, 8.3536208e-01],\n",
              "       [9.9973303e-01, 2.6692386e-04],\n",
              "       [7.8673355e-02, 9.2132664e-01],\n",
              "       [9.4509220e-01, 5.4907836e-02],\n",
              "       [1.4396776e-01, 8.5603231e-01],\n",
              "       [9.7490615e-01, 2.5093915e-02],\n",
              "       [5.3511132e-02, 9.4648892e-01],\n",
              "       [9.9999893e-01, 1.1134310e-06],\n",
              "       [1.5852527e-01, 8.4147477e-01],\n",
              "       [4.5046322e-02, 9.5495367e-01],\n",
              "       [2.0256874e-01, 7.9743123e-01],\n",
              "       [9.9968421e-01, 3.1577869e-04],\n",
              "       [9.9933785e-01, 6.6211278e-04],\n",
              "       [1.0000000e+00, 2.4363002e-14],\n",
              "       [2.6625583e-01, 7.3374414e-01],\n",
              "       [9.7090358e-01, 2.9096359e-02],\n",
              "       [5.5634016e-01, 4.4365981e-01],\n",
              "       [9.9956626e-01, 4.3377333e-04],\n",
              "       [9.9999976e-01, 2.2688369e-07],\n",
              "       [5.4007705e-02, 9.4599223e-01],\n",
              "       [9.9999988e-01, 8.7682942e-08],\n",
              "       [3.2637706e-01, 6.7362297e-01],\n",
              "       [9.9981004e-01, 1.9001361e-04],\n",
              "       [7.9151042e-02, 9.2084897e-01],\n",
              "       [1.6877363e-02, 9.8312265e-01],\n",
              "       [9.9999917e-01, 8.8914356e-07],\n",
              "       [9.9994802e-01, 5.1963314e-05],\n",
              "       [5.7274260e-02, 9.4272572e-01],\n",
              "       [9.9746299e-01, 2.5369783e-03],\n",
              "       [3.9952111e-01, 6.0047889e-01],\n",
              "       [9.9898642e-01, 1.0135560e-03],\n",
              "       [1.3329132e-01, 8.6670870e-01],\n",
              "       [9.9807823e-01, 1.9218023e-03],\n",
              "       [9.9916160e-01, 8.3837513e-04],\n",
              "       [9.9822980e-01, 1.7701875e-03],\n",
              "       [7.3614508e-01, 2.6385492e-01],\n",
              "       [9.1909331e-01, 8.0906674e-02],\n",
              "       [9.8632765e-01, 1.3672375e-02],\n",
              "       [9.9999738e-01, 2.5667669e-06],\n",
              "       [9.9872500e-01, 1.2750013e-03],\n",
              "       [9.9997413e-01, 2.5828091e-05]], dtype=float32)"
            ]
          },
          "metadata": {},
          "execution_count": 22
        }
      ]
    },
    {
      "cell_type": "code",
      "source": [
        "import numpy as np\n",
        "y_pred = np.argmax(y_pred, axis=1)"
      ],
      "metadata": {
        "id": "3EdiPc0m2LoH"
      },
      "execution_count": null,
      "outputs": []
    },
    {
      "cell_type": "code",
      "source": [
        "y_pred"
      ],
      "metadata": {
        "colab": {
          "base_uri": "https://localhost:8080/"
        },
        "id": "XjtXfmov2Luw",
        "outputId": "5e6f94a4-a9b2-4659-f0bb-ddba137f4c2b"
      },
      "execution_count": null,
      "outputs": [
        {
          "output_type": "execute_result",
          "data": {
            "text/plain": [
              "array([0, 0, 1, 1, 0, 1, 0, 0, 0, 0, 0, 1, 0, 1, 0, 0, 0, 0, 0, 0, 1, 1,\n",
              "       0, 1, 1, 0, 1, 0, 0, 1, 0, 0, 0, 0, 0, 0, 0, 0, 1, 1, 0, 0, 1, 0,\n",
              "       0, 0, 1, 1, 1, 0, 0, 0, 1, 0, 0, 1, 0, 0, 1, 0, 1, 0, 0, 1, 0, 1,\n",
              "       0, 1, 1, 0, 1, 0, 1, 0, 1, 0, 1, 1, 1, 1, 1, 0, 0, 1, 0, 0, 0, 1,\n",
              "       1, 1, 0, 0, 1, 1, 0, 1, 0, 1, 0, 1, 0, 1, 1, 1, 0, 0, 0, 1, 0, 0,\n",
              "       0, 0, 1, 0, 1, 0, 1, 1, 0, 0, 1, 0, 1, 0, 1, 0, 0, 0, 0, 0, 0, 0,\n",
              "       0, 0])"
            ]
          },
          "metadata": {},
          "execution_count": 24
        }
      ]
    },
    {
      "cell_type": "code",
      "source": [
        "from tensorflow.keras.models import load_model\n",
        "from tensorflow.keras.preprocessing import image"
      ],
      "metadata": {
        "id": "S5cOj_YN2T-g"
      },
      "execution_count": null,
      "outputs": []
    },
    {
      "cell_type": "code",
      "source": [
        "model=load_model('model_vgg19.h5')"
      ],
      "metadata": {
        "id": "DbBr4NBc2UCC"
      },
      "execution_count": null,
      "outputs": []
    },
    {
      "cell_type": "code",
      "source": [
        "img=image.load_img('/content/drive/MyDrive/Dataset/Test/Uninfected/2.png',target_size=(224,224))"
      ],
      "metadata": {
        "id": "Ip5WbhkuAWW6"
      },
      "execution_count": null,
      "outputs": []
    },
    {
      "cell_type": "code",
      "source": [
        "x=image.img_to_array(img)\n",
        "x"
      ],
      "metadata": {
        "id": "8q0YJeNGAWaS",
        "colab": {
          "base_uri": "https://localhost:8080/"
        },
        "outputId": "15d56ade-2818-4cad-fdd7-3033f5c30d1d"
      },
      "execution_count": null,
      "outputs": [
        {
          "output_type": "execute_result",
          "data": {
            "text/plain": [
              "array([[[0., 0., 0.],\n",
              "        [0., 0., 0.],\n",
              "        [0., 0., 0.],\n",
              "        ...,\n",
              "        [0., 0., 0.],\n",
              "        [0., 0., 0.],\n",
              "        [0., 0., 0.]],\n",
              "\n",
              "       [[0., 0., 0.],\n",
              "        [0., 0., 0.],\n",
              "        [0., 0., 0.],\n",
              "        ...,\n",
              "        [0., 0., 0.],\n",
              "        [0., 0., 0.],\n",
              "        [0., 0., 0.]],\n",
              "\n",
              "       [[0., 0., 0.],\n",
              "        [0., 0., 0.],\n",
              "        [0., 0., 0.],\n",
              "        ...,\n",
              "        [0., 0., 0.],\n",
              "        [0., 0., 0.],\n",
              "        [0., 0., 0.]],\n",
              "\n",
              "       ...,\n",
              "\n",
              "       [[0., 0., 0.],\n",
              "        [0., 0., 0.],\n",
              "        [0., 0., 0.],\n",
              "        ...,\n",
              "        [0., 0., 0.],\n",
              "        [0., 0., 0.],\n",
              "        [0., 0., 0.]],\n",
              "\n",
              "       [[0., 0., 0.],\n",
              "        [0., 0., 0.],\n",
              "        [0., 0., 0.],\n",
              "        ...,\n",
              "        [0., 0., 0.],\n",
              "        [0., 0., 0.],\n",
              "        [0., 0., 0.]],\n",
              "\n",
              "       [[0., 0., 0.],\n",
              "        [0., 0., 0.],\n",
              "        [0., 0., 0.],\n",
              "        ...,\n",
              "        [0., 0., 0.],\n",
              "        [0., 0., 0.],\n",
              "        [0., 0., 0.]]], dtype=float32)"
            ]
          },
          "metadata": {},
          "execution_count": 28
        }
      ]
    },
    {
      "cell_type": "code",
      "source": [
        "x.shape"
      ],
      "metadata": {
        "id": "1csj4X_tAcLY",
        "colab": {
          "base_uri": "https://localhost:8080/"
        },
        "outputId": "85763052-65ed-4dbf-e6cd-bfedd3fc30e4"
      },
      "execution_count": null,
      "outputs": [
        {
          "output_type": "execute_result",
          "data": {
            "text/plain": [
              "(224, 224, 3)"
            ]
          },
          "metadata": {},
          "execution_count": 29
        }
      ]
    },
    {
      "cell_type": "code",
      "source": [
        "x=x/255"
      ],
      "metadata": {
        "id": "XyvR68flAf5B"
      },
      "execution_count": null,
      "outputs": []
    },
    {
      "cell_type": "code",
      "source": [
        "x=np.expand_dims(x,axis=0)\n",
        "img_data=preprocess_input(x)\n",
        "img_data.shape"
      ],
      "metadata": {
        "id": "BMf3VjKQAf7E",
        "colab": {
          "base_uri": "https://localhost:8080/"
        },
        "outputId": "6cbcaec5-9dd0-4eab-b15e-a02360fd4286"
      },
      "execution_count": null,
      "outputs": [
        {
          "output_type": "execute_result",
          "data": {
            "text/plain": [
              "(1, 224, 224, 3)"
            ]
          },
          "metadata": {},
          "execution_count": 31
        }
      ]
    },
    {
      "cell_type": "code",
      "source": [
        "model.predict(img_data)"
      ],
      "metadata": {
        "id": "gAQocPqnAf9r",
        "colab": {
          "base_uri": "https://localhost:8080/"
        },
        "outputId": "51ff23a5-c26d-40e6-c3d0-7459889fc5f2"
      },
      "execution_count": null,
      "outputs": [
        {
          "output_type": "stream",
          "name": "stdout",
          "text": [
            "1/1 [==============================] - 0s 134ms/step\n"
          ]
        },
        {
          "output_type": "execute_result",
          "data": {
            "text/plain": [
              "array([[1., 0.]], dtype=float32)"
            ]
          },
          "metadata": {},
          "execution_count": 32
        }
      ]
    },
    {
      "cell_type": "code",
      "source": [
        "a=np.argmax(model.predict(img_data), axis=1)"
      ],
      "metadata": {
        "id": "2pFD05XsAf_w",
        "colab": {
          "base_uri": "https://localhost:8080/"
        },
        "outputId": "d96d2425-83a3-448f-cc2e-85a6a0fec1ac"
      },
      "execution_count": null,
      "outputs": [
        {
          "output_type": "stream",
          "name": "stdout",
          "text": [
            "1/1 [==============================] - 0s 17ms/step\n"
          ]
        }
      ]
    },
    {
      "cell_type": "code",
      "source": [
        "if(a==1):\n",
        "    print(\"Uninfected\")\n",
        "else:\n",
        "    print(\"Infected\")"
      ],
      "metadata": {
        "id": "TNvXdroLAgDT",
        "colab": {
          "base_uri": "https://localhost:8080/"
        },
        "outputId": "3bf49de8-2040-416e-81f4-a723e05d196a"
      },
      "execution_count": null,
      "outputs": [
        {
          "output_type": "stream",
          "name": "stdout",
          "text": [
            "Infected\n"
          ]
        }
      ]
    }
  ]
}